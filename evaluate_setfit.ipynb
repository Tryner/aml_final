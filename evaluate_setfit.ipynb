{
 "cells": [
  {
   "cell_type": "code",
   "execution_count": null,
   "metadata": {},
   "outputs": [],
   "source": [
    "#colab\n",
    "'''\n",
    "from google.colab import drive\n",
    "drive.mount('/content/drive', force_remount=True)\n",
    "%cd /content/drive/MyDrive/aml_final/aml_final/\n",
    "! git pull\n",
    "! pip install setfit\n",
    "'''"
   ]
  },
  {
   "cell_type": "code",
   "execution_count": null,
   "metadata": {},
   "outputs": [],
   "source": [
    "import torch\n",
    "from datasets import load_dataset, Dataset, concatenate_datasets\n",
    "from setfit import SetFitModel, Trainer, TrainingArguments, sample_dataset\n",
    "\n",
    "from train.reporter import Reporter\n",
    "from train.metrics import camprehesive_metrics"
   ]
  },
  {
   "cell_type": "code",
   "execution_count": null,
   "metadata": {},
   "outputs": [],
   "source": [
    "dataset = load_dataset(\"sst2\")\n",
    "full_train_dataset = dataset[\"train\"]\n",
    "eval_dataset = dataset[\"validation\"]"
   ]
  },
  {
   "cell_type": "code",
   "execution_count": null,
   "metadata": {},
   "outputs": [],
   "source": [
    "device = torch.device('cuda' if torch.cuda.is_available() else 'cpu')\n",
    "num_classes = 2\n",
    "model_name = \"BAAI/bge-base-en-v1.5\"\n",
    "\n",
    "def model_init():\n",
    "    return SetFitModel.from_pretrained(\n",
    "        model_name, \n",
    "        use_differentiable_head=True, \n",
    "        head_params={\"out_features\": num_classes}\n",
    "        ).to(device)\n",
    "\n",
    "def create_random_subset(dataset: Dataset, num_samples: int = 16) -> Dataset:\n",
    "    subset = dataset.shuffle().select(range(num_samples))\n",
    "    if len(set(subset[\"label\"])) < num_classes:\n",
    "        print(\"Shit happens\")\n",
    "        return create_random_subset(dataset, num_samples)\n",
    "    return subset\n",
    "\n",
    "\n",
    "def create_train_sets(full_train_dataset: Dataset, num_samples: int = 16):\n",
    "    full_train_dataset = full_train_dataset.shuffle()\n",
    "    small_dataset = sample_dataset(full_train_dataset, label_column=\"label\", num_samples=num_samples//num_classes)\n",
    "    unbalanced_0 = full_train_dataset.filter(lambda e: e[\"label\"]==0).select(range(num_samples))\n",
    "    unbalanced_1 = full_train_dataset.filter(lambda e: e[\"label\"]==1).select(range(num_samples))\n",
    "    big_dataset = concatenate_datasets([small_dataset, unbalanced_0, unbalanced_1])\n",
    "    unbalanced_0 = concatenate_datasets([small_dataset, unbalanced_0])\n",
    "    unbalanced_1 = concatenate_datasets([small_dataset, unbalanced_1])\n",
    "    random_subset = create_random_subset(big_dataset, num_samples=num_samples)\n",
    "    return small_dataset, unbalanced_0, unbalanced_1, big_dataset, random_subset\n"
   ]
  },
  {
   "cell_type": "code",
   "execution_count": null,
   "metadata": {},
   "outputs": [],
   "source": [
    "reporter = Reporter(\"colin_setfit_eval.csv\")"
   ]
  },
  {
   "cell_type": "code",
   "execution_count": null,
   "metadata": {},
   "outputs": [],
   "source": [
    "num_samples = 16\n",
    "for i in range(5):\n",
    "    small_dataset, unbalanced_0, unbalanced_1, big_dataset, random_subset = create_train_sets(full_train_dataset)\n",
    "    datasets = [small_dataset, unbalanced_0, unbalanced_1, big_dataset, random_subset]\n",
    "    for dataset in datasets:\n",
    "        for iterations in range(10, 31, 10):\n",
    "            args = TrainingArguments(num_iterations=iterations)\n",
    "            trainer = Trainer(\n",
    "                model_init=model_init,\n",
    "                train_dataset=dataset,\n",
    "                eval_dataset=eval_dataset,\n",
    "                args=args,\n",
    "                metric=camprehesive_metrics,\n",
    "                column_mapping={\"sentence\": \"text\", \"label\": \"label\"},\n",
    "            )\n",
    "            trainer.train()\n",
    "            reporter.report(trainer, dataset, model_name=model_name, i=i, iterations=iterations)"
   ]
  }
 ],
 "metadata": {
  "kernelspec": {
   "display_name": ".venv",
   "language": "python",
   "name": "python3"
  },
  "language_info": {
   "codemirror_mode": {
    "name": "ipython",
    "version": 3
   },
   "file_extension": ".py",
   "mimetype": "text/x-python",
   "name": "python",
   "nbconvert_exporter": "python",
   "pygments_lexer": "ipython3",
   "version": "3.11.4"
  }
 },
 "nbformat": 4,
 "nbformat_minor": 2
}
