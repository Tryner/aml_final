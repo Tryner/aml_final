{
 "cells": [
  {
   "cell_type": "code",
   "execution_count": 1,
   "metadata": {},
   "outputs": [
    {
     "data": {
      "text/plain": [
       "\"\\nfrom google.colab import drive\\ndrive.mount('/content/drive', force_remount=True)\\n%cd /content/drive/MyDrive/aml_final/aml_final/\\n! git pull\\n! pip install setfit\\n\""
      ]
     },
     "execution_count": 1,
     "metadata": {},
     "output_type": "execute_result"
    }
   ],
   "source": [
    "#colab\n",
    "'''\n",
    "from google.colab import drive\n",
    "drive.mount('/content/drive', force_remount=True)\n",
    "%cd /content/drive/MyDrive/aml_final/aml_final/\n",
    "! git pull\n",
    "! pip install setfit\n",
    "'''"
   ]
  },
  {
   "cell_type": "code",
   "execution_count": 2,
   "metadata": {},
   "outputs": [],
   "source": [
    "from datasets import load_dataset, Dataset\n",
    "from setfit import SetFitModel, Trainer, TrainingArguments\n",
    "import torch, gc\n",
    "\n",
    "from data.dataset_config import DatasetConfig\n",
    "from train.active_learning import ActiveTrainer, create_random_subset\n",
    "from train.active_learning_config import ActiveLearningConfig\n",
    "from train.reporter import Reporter\n",
    "from train.metrics import camprehesive_metrics"
   ]
  },
  {
   "cell_type": "code",
   "execution_count": 3,
   "metadata": {},
   "outputs": [],
   "source": [
    "samples_per_cycle = 12 # 12 * 4 = 8 * 6, comparable to setfit paper"
   ]
  },
  {
   "cell_type": "code",
   "execution_count": 4,
   "metadata": {},
   "outputs": [],
   "source": [
    "dataset = load_dataset(\"dair-ai/emotion\")\n",
    "dataset_config = DatasetConfig(text_column=\"text\", num_classes=6)\n",
    "train_dataset = dataset[\"train\"]\n",
    "eval_dataset = dataset[\"validation\"]\n",
    "\n",
    "device = torch.device('cuda' if torch.cuda.is_available() else 'cpu')\n",
    "\n",
    "final_reporter = Reporter(\"final_balancing.csv\", label_column=dataset_config.label_column)"
   ]
  },
  {
   "cell_type": "code",
   "execution_count": 5,
   "metadata": {},
   "outputs": [],
   "source": [
    "slow_train_args = TrainingArguments(num_iterations=20, num_epochs=(1, 16))\n",
    "fast_train_args = TrainingArguments(num_iterations=10, num_epochs=(1, 8))\n",
    "\n",
    "\n",
    "def run_train(args, initial_train_subset, active_learning_config, model_init, **kwargs):\n",
    "    trainer = ActiveTrainer(\n",
    "        model_init=model_init, \n",
    "        full_train_dataset=train_dataset,\n",
    "        eval_dataset=eval_dataset,\n",
    "        initial_train_subset=initial_train_subset,\n",
    "        train_args=args,\n",
    "        active_learning_config=active_learning_config, \n",
    "        dataset_config=dataset_config,\n",
    "        metric=camprehesive_metrics,\n",
    "        run_id=kwargs[\"run_id\"],\n",
    "        final_model_train_args=slow_train_args\n",
    "    )\n",
    "    t = trainer.train()\n",
    "    final_reporter.report(\n",
    "        trainer=t, \n",
    "        dataset=trainer.train_subset, \n",
    "        active_learning_config=active_learning_config, \n",
    "        dataset_name=\"emotion\", **kwargs #kwars, so you can put anything here\n",
    "        )"
   ]
  },
  {
   "cell_type": "code",
   "execution_count": 6,
   "metadata": {},
   "outputs": [
    {
     "name": "stderr",
     "output_type": "stream",
     "text": [
      "Applying column mapping to the training dataset\n",
      "Applying column mapping to the evaluation dataset\n"
     ]
    },
    {
     "data": {
      "application/vnd.jupyter.widget-view+json": {
       "model_id": "3da374d317c0452a900fe08faff4d4a0",
       "version_major": 2,
       "version_minor": 0
      },
      "text/plain": [
       "config.json:   0%|          | 0.00/571 [00:00<?, ?B/s]"
      ]
     },
     "metadata": {},
     "output_type": "display_data"
    },
    {
     "name": "stderr",
     "output_type": "stream",
     "text": [
      "c:\\Users\\Colin\\Documents\\aml\\aml_final\\.venv\\Lib\\site-packages\\huggingface_hub\\file_download.py:147: UserWarning: `huggingface_hub` cache-system uses symlinks by default to efficiently store duplicated files but your machine does not support them in C:\\Users\\Colin\\.cache\\huggingface\\hub. Caching files will still work but in a degraded version that might require more space on your disk. This warning can be disabled by setting the `HF_HUB_DISABLE_SYMLINKS_WARNING` environment variable. For more details, see https://huggingface.co/docs/huggingface_hub/how-to-cache#limitations.\n",
      "To support symlinks on Windows, you either need to activate Developer Mode or to run Python as an administrator. In order to see activate developer mode, see this article: https://docs.microsoft.com/en-us/windows/apps/get-started/enable-your-device-for-development\n",
      "  warnings.warn(message)\n"
     ]
    },
    {
     "data": {
      "application/vnd.jupyter.widget-view+json": {
       "model_id": "86906e847ea247b8b97021b70a65c41d",
       "version_major": 2,
       "version_minor": 0
      },
      "text/plain": [
       ".gitattributes:   0%|          | 0.00/1.18k [00:00<?, ?B/s]"
      ]
     },
     "metadata": {},
     "output_type": "display_data"
    },
    {
     "data": {
      "application/vnd.jupyter.widget-view+json": {
       "model_id": "1d95c721214f4702a4881bdc948b217e",
       "version_major": 2,
       "version_minor": 0
      },
      "text/plain": [
       "1_Pooling/config.json:   0%|          | 0.00/190 [00:00<?, ?B/s]"
      ]
     },
     "metadata": {},
     "output_type": "display_data"
    },
    {
     "data": {
      "application/vnd.jupyter.widget-view+json": {
       "model_id": "3d598eb946394bd5a2caa390662dfe98",
       "version_major": 2,
       "version_minor": 0
      },
      "text/plain": [
       "README.md:   0%|          | 0.00/10.6k [00:00<?, ?B/s]"
      ]
     },
     "metadata": {},
     "output_type": "display_data"
    },
    {
     "data": {
      "application/vnd.jupyter.widget-view+json": {
       "model_id": "52032df72dc84c138069c6e05561f72f",
       "version_major": 2,
       "version_minor": 0
      },
      "text/plain": [
       "config.json:   0%|          | 0.00/571 [00:00<?, ?B/s]"
      ]
     },
     "metadata": {},
     "output_type": "display_data"
    },
    {
     "data": {
      "application/vnd.jupyter.widget-view+json": {
       "model_id": "51f614b45e324e9ca70d687d72a9fc3e",
       "version_major": 2,
       "version_minor": 0
      },
      "text/plain": [
       "config_sentence_transformers.json:   0%|          | 0.00/116 [00:00<?, ?B/s]"
      ]
     },
     "metadata": {},
     "output_type": "display_data"
    },
    {
     "data": {
      "application/vnd.jupyter.widget-view+json": {
       "model_id": "6033c5964ab44aa4943444b4dd4ede39",
       "version_major": 2,
       "version_minor": 0
      },
      "text/plain": [
       "data_config.json:   0%|          | 0.00/39.3k [00:00<?, ?B/s]"
      ]
     },
     "metadata": {},
     "output_type": "display_data"
    },
    {
     "data": {
      "application/vnd.jupyter.widget-view+json": {
       "model_id": "5ebe56645e23454ca677e484ce72ae1a",
       "version_major": 2,
       "version_minor": 0
      },
      "text/plain": [
       "pytorch_model.bin:   0%|          | 0.00/438M [00:00<?, ?B/s]"
      ]
     },
     "metadata": {},
     "output_type": "display_data"
    }
   ],
   "source": [
    "run_id = 0\n",
    "for dataset_id in range(3):\n",
    "    initial_subset = create_random_subset(dataset=train_dataset, num_samples=samples_per_cycle)\n",
    "    for model_name in [\"sentence-transformers/all-mpnet-base-v2\", \"WhereIsAI/UAE-Large-V1\"]:\n",
    "        model_init = lambda: SetFitModel.from_pretrained(model_name, use_differentiable_head=True, head_params={\"out_features\": dataset_config.num_classes}).to(device)\n",
    "        for speed in [\"fast\", \"slow\"]:\n",
    "            if \"fast\":\n",
    "                train_args = fast_train_args\n",
    "            else:\n",
    "                train_args = slow_train_args\n",
    "            for setting in range(5):\n",
    "                strategy = \"max_entropy\"\n",
    "                balancing = None\n",
    "                if setting == 0:\n",
    "                    strategy = \"random\"\n",
    "                if setting == 2:\n",
    "                    balancing = 0.1\n",
    "                if setting == 3:\n",
    "                    balancing = 0.25\n",
    "                if setting == 4:\n",
    "                    balancing = 0.5\n",
    "                active_config = ActiveLearningConfig(samples_per_cycle=samples_per_cycle, model_name=model_name, unlabeled_samples=600, active_sampling_strategy=strategy, balancing_factor=balancing)\n",
    "                run_train(train_args, initial_subset, active_config, model_init, run_id=run_id, dataset_id=dataset_id, setting=setting)\n",
    "                gc.collect()\n",
    "                run_id+=1"
   ]
  }
 ],
 "metadata": {
  "kernelspec": {
   "display_name": ".venv",
   "language": "python",
   "name": "python3"
  },
  "language_info": {
   "codemirror_mode": {
    "name": "ipython",
    "version": 3
   },
   "file_extension": ".py",
   "mimetype": "text/x-python",
   "name": "python",
   "nbconvert_exporter": "python",
   "pygments_lexer": "ipython3",
   "version": "3.11.4"
  }
 },
 "nbformat": 4,
 "nbformat_minor": 2
}
