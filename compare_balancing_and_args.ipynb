{
 "cells": [
  {
   "cell_type": "code",
   "execution_count": null,
   "metadata": {},
   "outputs": [],
   "source": [
    "#colab\n",
    "'''\n",
    "from google.colab import drive\n",
    "drive.mount('/content/drive', force_remount=True)\n",
    "%cd /content/drive/MyDrive/aml_final/aml_final/\n",
    "! git pull\n",
    "! pip install setfit\n",
    "'''"
   ]
  },
  {
   "cell_type": "code",
   "execution_count": null,
   "metadata": {},
   "outputs": [],
   "source": [
    "from datasets import load_dataset\n",
    "from setfit import TrainingArguments\n",
    "import gc\n",
    "\n",
    "from data.dataset_config import DatasetConfig\n",
    "from train.active_learning import ActiveTrainer, create_random_subset\n",
    "from train.active_learning_config import ActiveLearningConfig\n",
    "from train.reporter import Reporter\n",
    "from train.metrics import comprehensive_metrics"
   ]
  },
  {
   "cell_type": "code",
   "execution_count": null,
   "metadata": {},
   "outputs": [],
   "source": [
    "samples_per_cycle = 12 # 12 * 4 = 8 * 6, comparable to setfit paper\n",
    "\n",
    "dataset = load_dataset(\"dair-ai/emotion\")\n",
    "dataset_config = DatasetConfig(text_column=\"text\", num_classes=6)\n",
    "train_dataset = dataset[\"train\"]\n",
    "eval_dataset = dataset[\"validation\"]\n",
    "\n",
    "final_reporter = Reporter(\"final_balancing.csv\", label_column=dataset_config.label_column)"
   ]
  },
  {
   "cell_type": "code",
   "execution_count": null,
   "metadata": {},
   "outputs": [],
   "source": [
    "slow_train_args = TrainingArguments(num_iterations=20, num_epochs=(1, 16))\n",
    "fast_train_args = TrainingArguments(num_iterations=10, num_epochs=(1, 8))\n",
    "\n",
    "def run_train(args, initial_train_subset, active_learning_config, **kwargs):\n",
    "    trainer = ActiveTrainer(\n",
    "        full_train_dataset=train_dataset,\n",
    "        eval_dataset=eval_dataset,\n",
    "        initial_train_subset=initial_train_subset,\n",
    "        train_args=args,\n",
    "        active_learning_config=active_learning_config, \n",
    "        dataset_config=dataset_config,\n",
    "        metric=comprehensive_metrics,\n",
    "        run_id=kwargs[\"run_id\"],\n",
    "        final_model_train_args=slow_train_args\n",
    "    )\n",
    "    t = trainer.train()\n",
    "    final_reporter.report(\n",
    "        trainer=t, \n",
    "        dataset=trainer.train_subset, \n",
    "        active_learning_config=active_learning_config, \n",
    "        dataset_name=\"emotion\", **kwargs #kwars, so you can put anything here\n",
    "        )"
   ]
  },
  {
   "cell_type": "code",
   "execution_count": null,
   "metadata": {},
   "outputs": [],
   "source": [
    "run_id = 0\n",
    "for dataset_id in range(3):\n",
    "    initial_subset = create_random_subset(dataset=train_dataset, num_samples=samples_per_cycle, seed=dataset_id, dataset_config=dataset_config)\n",
    "    for model_name in [\"sentence-transformers/all-mpnet-base-v2\"]:\n",
    "        for speed in [\"fast\", \"slow\"]:\n",
    "            if speed == \"fast\":\n",
    "                train_args = fast_train_args\n",
    "            else:\n",
    "                train_args = slow_train_args\n",
    "            for setting in range(4):\n",
    "                strategy = \"max_entropy\"\n",
    "                balancing = None\n",
    "                if setting == 0:\n",
    "                    strategy = \"random\"\n",
    "                if setting == 2:\n",
    "                    balancing = 0.25\n",
    "                if setting == 3:\n",
    "                    balancing = 0.5\n",
    "                active_config = ActiveLearningConfig(samples_per_cycle=samples_per_cycle, model_name=model_name, unlabeled_samples=600, active_sampling_strategy=strategy, balancing_factor=balancing)\n",
    "                run_train(train_args, initial_subset, active_config, run_id=run_id, dataset_id=dataset_id, setting=setting, speed=speed)\n",
    "                gc.collect()\n",
    "                run_id+=1"
   ]
  }
 ],
 "metadata": {
  "kernelspec": {
   "display_name": ".venv",
   "language": "python",
   "name": "python3"
  },
  "language_info": {
   "codemirror_mode": {
    "name": "ipython",
    "version": 3
   },
   "file_extension": ".py",
   "mimetype": "text/x-python",
   "name": "python",
   "nbconvert_exporter": "python",
   "pygments_lexer": "ipython3",
   "version": "3.11.4"
  }
 },
 "nbformat": 4,
 "nbformat_minor": 2
}
