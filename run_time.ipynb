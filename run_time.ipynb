{
 "cells": [
  {
   "cell_type": "code",
   "execution_count": null,
   "metadata": {},
   "outputs": [],
   "source": [
    "#colab\n",
    "'''\n",
    "from google.colab import drive\n",
    "drive.mount('/content/drive', force_remount=True)\n",
    "%cd /content/drive/MyDrive/aml_final/aml_final/\n",
    "! git pull\n",
    "! pip install setfit\n",
    "'''\n",
    "from datasets import load_dataset\n",
    "from setfit import SetFitModel, Trainer, TrainingArguments\n",
    "import torch, gc, time\n",
    "\n",
    "from data.dataset_config import DatasetConfig\n",
    "from train.active_learning import create_random_subset\n",
    "from train.reporter import Reporter\n",
    "from train.metrics import camprehesive_metrics"
   ]
  },
  {
   "cell_type": "code",
   "execution_count": null,
   "metadata": {},
   "outputs": [],
   "source": [
    "num_samples = 100\n",
    "inference_samples = 1000\n",
    "dataset_config = DatasetConfig(text_column=\"text\", num_classes=6)\n",
    "\n",
    "dataset = load_dataset(\"dair-ai/emotion\")\n",
    "subset = create_random_subset(dataset[\"train\"], dataset_config, num_samples)\n",
    "inference_samples = create_random_subset(dataset[\"train\"], dataset_config, inference_samples)[dataset_config.text_column]\n",
    "\n",
    "device = torch.device('cuda' if torch.cuda.is_available() else 'cpu')\n",
    "final_reporter = Reporter(\"time.csv\", label_column=dataset_config.label_column)\n",
    "\n",
    "cycle_args = TrainingArguments(num_iterations=10, num_epochs=(1, 8))\n",
    "models = [\"thenlper/gte-small\", \"sentence-transformers/all-mpnet-base-v2\", \"sentence-transformers/paraphrase-multilingual-mpnet-base-v2\", \"WhereIsAI/UAE-Large-V1\"]"
   ]
  },
  {
   "cell_type": "code",
   "execution_count": null,
   "metadata": {},
   "outputs": [],
   "source": [
    "for model_name in models:\n",
    "    model = SetFitModel.from_pretrained(\n",
    "        model_name, use_differentiable_head=True, head_params={\"out_features\": dataset_config.num_classes}\n",
    "        ).to(device)\n",
    "    trainer = Trainer(\n",
    "        model=model,\n",
    "        args=cycle_args,\n",
    "        train_dataset=subset,\n",
    "        eval_dataset=dataset[\"validation\"],\n",
    "        metric=camprehesive_metrics\n",
    "    )\n",
    "    start_time=time.time()\n",
    "    trainer.train()\n",
    "    train_time=time.time() - start_time\n",
    "    start_time=time.time()\n",
    "    probs = trainer.model.predict_proba(inference_samples)\n",
    "    infernce_time=time.time() - start_time\n",
    "    metrics = trainer.evaluate()\n",
    "    final_reporter.report(dataset=subset, model=model_name, train_time=train_time, infernce_time=infernce_time, inference_samples=inference_samples, **metrics)\n",
    "    gc.collect()\n",
    "    "
   ]
  }
 ],
 "metadata": {
  "kernelspec": {
   "display_name": ".venv",
   "language": "python",
   "name": "python3"
  },
  "language_info": {
   "codemirror_mode": {
    "name": "ipython",
    "version": 3
   },
   "file_extension": ".py",
   "mimetype": "text/x-python",
   "name": "python",
   "nbconvert_exporter": "python",
   "pygments_lexer": "ipython3",
   "version": "3.11.4"
  }
 },
 "nbformat": 4,
 "nbformat_minor": 2
}
