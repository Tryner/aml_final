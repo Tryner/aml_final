{
 "cells": [
  {
   "cell_type": "code",
   "execution_count": 12,
   "metadata": {},
   "outputs": [
    {
     "data": {
      "text/plain": [
       "'\\nfrom google.colab import drive\\ndrive.mount(\\'/content/drive\\', force_remount=True)\\n%cd /content/drive/MyDrive/aml_final\\n#with open(\"github_token.txt\", \"r\") as f:\\n#  token = f.read()\\n#! git clone https://{token}@github.com/Tryner/aml_final.git #clone repo\\n%cd aml_final/\\n! git pull\\n! pip install setfit\\n'"
      ]
     },
     "execution_count": 12,
     "metadata": {},
     "output_type": "execute_result"
    }
   ],
   "source": [
    "#Colab\n",
    "'''\n",
    "from google.colab import drive\n",
    "drive.mount('/content/drive', force_remount=True)\n",
    "%cd /content/drive/MyDrive/aml_final\n",
    "#with open(\"github_token.txt\", \"r\") as f:\n",
    "#  token = f.read()\n",
    "#! git clone https://{token}@github.com/Tryner/aml_final.git #clone repo\n",
    "%cd aml_final/\n",
    "! git pull\n",
    "! pip install setfit\n",
    "'''"
   ]
  },
  {
   "cell_type": "code",
   "execution_count": 13,
   "metadata": {},
   "outputs": [],
   "source": [
    "from collections import Counter\n",
    "\n",
    "import torch\n",
    "from datasets import load_dataset, Dataset\n",
    "from setfit import SetFitModel, Trainer, TrainingArguments\n",
    "from train.active_learning import ActiveTrainer\n",
    "from train.active_learning_config import ActiveLearningConfig\n",
    "from data.dataset_config import DatasetConfig\n",
    "import pandas as pd\n",
    "from sklearn.model_selection import train_test_split"
   ]
  },
  {
   "cell_type": "code",
   "execution_count": 14,
   "metadata": {},
   "outputs": [],
   "source": [
    "df=pd.read_csv('data\\\\raw_datasets\\\\twitter_humor.csv')\n",
    "\n",
    "df=df.loc[:,['tweet','humor']]\n",
    "df=df.rename(columns={'tweet': DatasetConfig.text_column, 'humor': DatasetConfig.label_column})\n",
    "\n",
    "# Split the DataFrame into features (X) and labels (y)\n",
    "X = df.drop('label', axis=1)  # Assuming 'label' is the name of your label column\n",
    "y = df['label']\n",
    "\n",
    "# Split the data into training and validation sets\n",
    "X_train, X_valid, y_train, y_valid = train_test_split(X, y, test_size=0.2, random_state=42)\n",
    "\n",
    "# Create DataFrames for training and validation\n",
    "tset = Dataset.from_pandas(pd.concat([X_train, y_train], axis=1))\n",
    "vset = Dataset.from_pandas(pd.concat([X_valid, y_valid], axis=1))\n",
    "# dataset=Dataset.from_pandas(df)\n",
    "\n",
    "# print(df)\n",
    "# tset=pd.DataFrame()\n",
    "# vset=pd.DataFrame()\n",
    "# tset=df.loc[range(len(df. index)//2),['tweet','humor']]\n",
    "# vset=df.loc[range(len(df.index)//2 +1, len(df.index)),['tweet','humor']]\n",
    "# tset=tset.rename(columns={'tweet': DatasetConfig.text_column, 'humor': DatasetConfig.label_column})\n",
    "# vset=vset.rename(columns={'tweet': DatasetConfig.text_column, 'humor': DatasetConfig.label_column})\n",
    "# print(vset)\n",
    "\n",
    "active_learning_config = ActiveLearningConfig()\n",
    "dataset_config = DatasetConfig()\n",
    "train_args = TrainingArguments()"
   ]
  },
  {
   "cell_type": "code",
   "execution_count": 15,
   "metadata": {},
   "outputs": [
    {
     "name": "stdout",
     "output_type": "stream",
     "text": [
      "cpu\n"
     ]
    }
   ],
   "source": [
    "device = torch.device('cuda' if torch.cuda.is_available() else 'cpu')\n",
    "print(device)\n",
    "def model_init():\n",
    "    return SetFitModel.from_pretrained(\"thenlper/gte-small\", use_differentiable_head=True, head_params={\"out_features\": dataset_config.num_classes}).to(device)\n",
    "def after_train_callback(trainer: Trainer):\n",
    "    print(\"#Accuraccy: \" + str(trainer.evaluate()))\n",
    "def dataset_callback(dataset: Dataset):\n",
    "    print(\"#Labels: \" + str(Counter(dataset[dataset_config.label_column])))"
   ]
  },
  {
   "cell_type": "code",
   "execution_count": 17,
   "metadata": {},
   "outputs": [
    {
     "ename": "KeyboardInterrupt",
     "evalue": "",
     "output_type": "error",
     "traceback": [
      "\u001b[1;31m---------------------------------------------------------------------------\u001b[0m",
      "\u001b[1;31mKeyboardInterrupt\u001b[0m                         Traceback (most recent call last)",
      "Cell \u001b[1;32mIn[17], line 1\u001b[0m\n\u001b[1;32m----> 1\u001b[0m trainer \u001b[38;5;241m=\u001b[39m \u001b[43mActiveTrainer\u001b[49m\u001b[43m(\u001b[49m\n\u001b[0;32m      2\u001b[0m \u001b[43m    \u001b[49m\u001b[43mmodel_init\u001b[49m\u001b[38;5;241;43m=\u001b[39;49m\u001b[43mmodel_init\u001b[49m\u001b[43m,\u001b[49m\u001b[43m \u001b[49m\n\u001b[0;32m      3\u001b[0m \u001b[43m    \u001b[49m\u001b[43mfull_train_dataset\u001b[49m\u001b[38;5;241;43m=\u001b[39;49m\u001b[43mtset\u001b[49m\u001b[43m,\u001b[49m\n\u001b[0;32m      4\u001b[0m \u001b[43m    \u001b[49m\u001b[43meval_dataset\u001b[49m\u001b[38;5;241;43m=\u001b[39;49m\u001b[43mvset\u001b[49m\u001b[43m,\u001b[49m\n\u001b[0;32m      5\u001b[0m \u001b[43m    \u001b[49m\u001b[43mtrain_args\u001b[49m\u001b[38;5;241;43m=\u001b[39;49m\u001b[43mtrain_args\u001b[49m\u001b[43m,\u001b[49m\n\u001b[0;32m      6\u001b[0m \u001b[43m    \u001b[49m\u001b[43mactive_learning_config\u001b[49m\u001b[38;5;241;43m=\u001b[39;49m\u001b[43mactive_learning_config\u001b[49m\u001b[43m,\u001b[49m\u001b[43m \u001b[49m\n\u001b[0;32m      7\u001b[0m \u001b[43m    \u001b[49m\u001b[43mdataset_config\u001b[49m\u001b[38;5;241;43m=\u001b[39;49m\u001b[43mdataset_config\u001b[49m\u001b[43m,\u001b[49m\n\u001b[0;32m      8\u001b[0m \u001b[43m    \u001b[49m\u001b[43minitial_train_subset\u001b[49m\u001b[38;5;241;43m=\u001b[39;49m\u001b[38;5;28;43;01mNone\u001b[39;49;00m\u001b[43m,\u001b[49m\n\u001b[0;32m      9\u001b[0m \u001b[43m    \u001b[49m\u001b[43mafter_train_callback\u001b[49m\u001b[38;5;241;43m=\u001b[39;49m\u001b[43mafter_train_callback\u001b[49m\u001b[43m,\u001b[49m\n\u001b[0;32m     10\u001b[0m \u001b[43m    \u001b[49m\u001b[43mdataset_callback\u001b[49m\u001b[38;5;241;43m=\u001b[39;49m\u001b[43mdataset_callback\u001b[49m\u001b[43m,\u001b[49m\n\u001b[0;32m     11\u001b[0m \u001b[43m    \u001b[49m\u001b[43m)\u001b[49m\n\u001b[0;32m     13\u001b[0m \u001b[38;5;66;03m# trainer = ActiveTrainer(\u001b[39;00m\n\u001b[0;32m     14\u001b[0m \u001b[38;5;66;03m#     model_init=model_init, \u001b[39;00m\n\u001b[0;32m     15\u001b[0m \u001b[38;5;66;03m#     full_train_dataset=dataset[\"train\"],\u001b[39;00m\n\u001b[1;32m   (...)\u001b[0m\n\u001b[0;32m     21\u001b[0m \u001b[38;5;66;03m#     dataset_callback=dataset_callback,\u001b[39;00m\n\u001b[0;32m     22\u001b[0m \u001b[38;5;66;03m#     )\u001b[39;00m\n",
      "File \u001b[1;32mc:\\Users\\UTENTE\\Documents\\aml_final\\train\\active_learning.py:38\u001b[0m, in \u001b[0;36mActiveTrainer.__init__\u001b[1;34m(self, model_init, full_train_dataset, train_args, active_learning_config, dataset_config, eval_dataset, initial_train_subset, after_train_callback, dataset_callback)\u001b[0m\n\u001b[0;32m     36\u001b[0m \u001b[38;5;28mself\u001b[39m\u001b[38;5;241m.\u001b[39mtrain_subset \u001b[38;5;241m=\u001b[39m initial_train_subset\n\u001b[0;32m     37\u001b[0m \u001b[38;5;28;01mif\u001b[39;00m initial_train_subset \u001b[38;5;129;01mis\u001b[39;00m \u001b[38;5;28;01mNone\u001b[39;00m:\n\u001b[1;32m---> 38\u001b[0m     \u001b[38;5;28mself\u001b[39m\u001b[38;5;241m.\u001b[39mtrain_subset \u001b[38;5;241m=\u001b[39m \u001b[38;5;28;43mself\u001b[39;49m\u001b[38;5;241;43m.\u001b[39;49m\u001b[43mcreate_initial_train_subset\u001b[49m\u001b[43m(\u001b[49m\u001b[43m)\u001b[49m\n",
      "File \u001b[1;32mc:\\Users\\UTENTE\\Documents\\aml_final\\train\\active_learning.py:78\u001b[0m, in \u001b[0;36mActiveTrainer.create_initial_train_subset\u001b[1;34m(self)\u001b[0m\n\u001b[0;32m     76\u001b[0m \u001b[38;5;28;01melse\u001b[39;00m:\n\u001b[0;32m     77\u001b[0m     \u001b[38;5;28;01mraise\u001b[39;00m \u001b[38;5;167;01mValueError\u001b[39;00m(\u001b[38;5;124m\"\u001b[39m\u001b[38;5;124mNot supported for initial sampling: \u001b[39m\u001b[38;5;124m\"\u001b[39m \u001b[38;5;241m+\u001b[39m \u001b[38;5;28mself\u001b[39m\u001b[38;5;241m.\u001b[39mactive_learning_config\u001b[38;5;241m.\u001b[39minitial_sample)\n\u001b[1;32m---> 78\u001b[0m train_subset \u001b[38;5;241m=\u001b[39m \u001b[43mtrain_subset\u001b[49m\u001b[38;5;241m.\u001b[39mcast_column(label_column, \u001b[38;5;28mself\u001b[39m\u001b[38;5;241m.\u001b[39mfull_train_dataset\u001b[38;5;241m.\u001b[39mfeatures[label_column])\n\u001b[0;32m     79\u001b[0m \u001b[38;5;28;01mreturn\u001b[39;00m train_subset\n",
      "File \u001b[1;32mc:\\Users\\UTENTE\\Documents\\aml_final\\train\\active_learning.py:78\u001b[0m, in \u001b[0;36mActiveTrainer.create_initial_train_subset\u001b[1;34m(self)\u001b[0m\n\u001b[0;32m     76\u001b[0m \u001b[38;5;28;01melse\u001b[39;00m:\n\u001b[0;32m     77\u001b[0m     \u001b[38;5;28;01mraise\u001b[39;00m \u001b[38;5;167;01mValueError\u001b[39;00m(\u001b[38;5;124m\"\u001b[39m\u001b[38;5;124mNot supported for initial sampling: \u001b[39m\u001b[38;5;124m\"\u001b[39m \u001b[38;5;241m+\u001b[39m \u001b[38;5;28mself\u001b[39m\u001b[38;5;241m.\u001b[39mactive_learning_config\u001b[38;5;241m.\u001b[39minitial_sample)\n\u001b[1;32m---> 78\u001b[0m train_subset \u001b[38;5;241m=\u001b[39m \u001b[43mtrain_subset\u001b[49m\u001b[38;5;241m.\u001b[39mcast_column(label_column, \u001b[38;5;28mself\u001b[39m\u001b[38;5;241m.\u001b[39mfull_train_dataset\u001b[38;5;241m.\u001b[39mfeatures[label_column])\n\u001b[0;32m     79\u001b[0m \u001b[38;5;28;01mreturn\u001b[39;00m train_subset\n",
      "File \u001b[1;32m_pydevd_bundle/pydevd_cython.pyx:1457\u001b[0m, in \u001b[0;36m_pydevd_bundle.pydevd_cython.SafeCallWrapper.__call__\u001b[1;34m()\u001b[0m\n",
      "File \u001b[1;32m_pydevd_bundle/pydevd_cython.pyx:701\u001b[0m, in \u001b[0;36m_pydevd_bundle.pydevd_cython.PyDBFrame.trace_dispatch\u001b[1;34m()\u001b[0m\n",
      "File \u001b[1;32m_pydevd_bundle/pydevd_cython.pyx:1152\u001b[0m, in \u001b[0;36m_pydevd_bundle.pydevd_cython.PyDBFrame.trace_dispatch\u001b[1;34m()\u001b[0m\n",
      "File \u001b[1;32m_pydevd_bundle/pydevd_cython.pyx:1135\u001b[0m, in \u001b[0;36m_pydevd_bundle.pydevd_cython.PyDBFrame.trace_dispatch\u001b[1;34m()\u001b[0m\n",
      "File \u001b[1;32m_pydevd_bundle/pydevd_cython.pyx:312\u001b[0m, in \u001b[0;36m_pydevd_bundle.pydevd_cython.PyDBFrame.do_wait_suspend\u001b[1;34m()\u001b[0m\n",
      "File \u001b[1;32mc:\\Users\\UTENTE\\Documents\\aml_final\\.venv\\lib\\site-packages\\debugpy\\_vendored\\pydevd\\pydevd.py:2070\u001b[0m, in \u001b[0;36mPyDB.do_wait_suspend\u001b[1;34m(self, thread, frame, event, arg, exception_type)\u001b[0m\n\u001b[0;32m   2067\u001b[0m             from_this_thread\u001b[38;5;241m.\u001b[39mappend(frame_custom_thread_id)\n\u001b[0;32m   2069\u001b[0m     \u001b[38;5;28;01mwith\u001b[39;00m \u001b[38;5;28mself\u001b[39m\u001b[38;5;241m.\u001b[39m_threads_suspended_single_notification\u001b[38;5;241m.\u001b[39mnotify_thread_suspended(thread_id, thread, stop_reason):\n\u001b[1;32m-> 2070\u001b[0m         keep_suspended \u001b[38;5;241m=\u001b[39m \u001b[38;5;28;43mself\u001b[39;49m\u001b[38;5;241;43m.\u001b[39;49m\u001b[43m_do_wait_suspend\u001b[49m\u001b[43m(\u001b[49m\u001b[43mthread\u001b[49m\u001b[43m,\u001b[49m\u001b[43m \u001b[49m\u001b[43mframe\u001b[49m\u001b[43m,\u001b[49m\u001b[43m \u001b[49m\u001b[43mevent\u001b[49m\u001b[43m,\u001b[49m\u001b[43m \u001b[49m\u001b[43marg\u001b[49m\u001b[43m,\u001b[49m\u001b[43m \u001b[49m\u001b[43msuspend_type\u001b[49m\u001b[43m,\u001b[49m\u001b[43m \u001b[49m\u001b[43mfrom_this_thread\u001b[49m\u001b[43m,\u001b[49m\u001b[43m \u001b[49m\u001b[43mframes_tracker\u001b[49m\u001b[43m)\u001b[49m\n\u001b[0;32m   2072\u001b[0m frames_list \u001b[38;5;241m=\u001b[39m \u001b[38;5;28;01mNone\u001b[39;00m\n\u001b[0;32m   2074\u001b[0m \u001b[38;5;28;01mif\u001b[39;00m keep_suspended:\n\u001b[0;32m   2075\u001b[0m     \u001b[38;5;66;03m# This means that we should pause again after a set next statement.\u001b[39;00m\n",
      "File \u001b[1;32mc:\\Users\\UTENTE\\Documents\\aml_final\\.venv\\lib\\site-packages\\debugpy\\_vendored\\pydevd\\pydevd.py:2106\u001b[0m, in \u001b[0;36mPyDB._do_wait_suspend\u001b[1;34m(self, thread, frame, event, arg, suspend_type, from_this_thread, frames_tracker)\u001b[0m\n\u001b[0;32m   2103\u001b[0m         \u001b[38;5;28mself\u001b[39m\u001b[38;5;241m.\u001b[39m_call_input_hook()\n\u001b[0;32m   2105\u001b[0m     \u001b[38;5;28mself\u001b[39m\u001b[38;5;241m.\u001b[39mprocess_internal_commands()\n\u001b[1;32m-> 2106\u001b[0m     \u001b[43mtime\u001b[49m\u001b[38;5;241;43m.\u001b[39;49m\u001b[43msleep\u001b[49m\u001b[43m(\u001b[49m\u001b[38;5;241;43m0.01\u001b[39;49m\u001b[43m)\u001b[49m\n\u001b[0;32m   2108\u001b[0m \u001b[38;5;28mself\u001b[39m\u001b[38;5;241m.\u001b[39mcancel_async_evaluation(get_current_thread_id(thread), \u001b[38;5;28mstr\u001b[39m(\u001b[38;5;28mid\u001b[39m(frame)))\n\u001b[0;32m   2110\u001b[0m \u001b[38;5;66;03m# process any stepping instructions\u001b[39;00m\n",
      "\u001b[1;31mKeyboardInterrupt\u001b[0m: "
     ]
    }
   ],
   "source": [
    "trainer = ActiveTrainer(\n",
    "    model_init=model_init, \n",
    "    full_train_dataset=tset,\n",
    "    eval_dataset=vset,\n",
    "    train_args=train_args,\n",
    "    active_learning_config=active_learning_config, \n",
    "    dataset_config=dataset_config,\n",
    "    initial_train_subset=None,\n",
    "    after_train_callback=after_train_callback,\n",
    "    dataset_callback=dataset_callback,\n",
    "    )\n",
    "\n",
    "# trainer = ActiveTrainer(\n",
    "#     model_init=model_init, \n",
    "#     full_train_dataset=dataset[\"train\"],\n",
    "#     eval_dataset=dataset[\"validation\"],\n",
    "#     train_args=train_args,\n",
    "#     active_learning_config=active_learning_config, \n",
    "#     dataset_config=dataset_config,\n",
    "#     after_train_callback=after_train_callback,\n",
    "#     dataset_callback=dataset_callback,\n",
    "#     )"
   ]
  },
  {
   "cell_type": "code",
   "execution_count": 6,
   "metadata": {},
   "outputs": [
    {
     "name": "stderr",
     "output_type": "stream",
     "text": [
      "Applying column mapping to the training dataset\n",
      "Applying column mapping to the evaluation dataset\n",
      "model_head.pkl not found on HuggingFace Hub, initialising classification head with random weights. You should TRAIN this model on a downstream task to use it for predictions and inference.\n",
      "Map: 100%|██████████| 8/8 [00:00<00:00, 2668.56 examples/s]\n",
      "***** Running training *****\n",
      "  Num examples = 3\n",
      "  Num epochs = 1\n",
      "  Total optimization steps = 3\n",
      "  Total train batch size = 16\n",
      "  0%|          | 0/3 [00:00<?, ?it/s]\n",
      "\n",
      "\u001b[A                                          "
     ]
    },
    {
     "name": "stdout",
     "output_type": "stream",
     "text": [
      "{'embedding_loss': 0.3072, 'learning_rate': 2e-05, 'epoch': 0.33}\n"
     ]
    },
    {
     "name": "stderr",
     "output_type": "stream",
     "text": [
      "\n",
      "100%|██████████| 3/3 [00:04<00:00,  1.62s/it]\n",
      "The `max_length` is `None`. Using the maximum acceptable length according to the current model body: 512.\n"
     ]
    },
    {
     "name": "stdout",
     "output_type": "stream",
     "text": [
      "{'train_runtime': 5.2011, 'train_samples_per_second': 9.229, 'train_steps_per_second': 0.577, 'epoch': 1.0}\n"
     ]
    },
    {
     "name": "stderr",
     "output_type": "stream",
     "text": [
      "Epoch:  25%|██▌       | 4/16 [00:29<01:30,  7.58s/it]"
     ]
    }
   ],
   "source": [
    "trainer.train()"
   ]
  }
 ],
 "metadata": {
  "kernelspec": {
   "display_name": ".venv",
   "language": "python",
   "name": "python3"
  },
  "language_info": {
   "codemirror_mode": {
    "name": "ipython",
    "version": 3
   },
   "file_extension": ".py",
   "mimetype": "text/x-python",
   "name": "python",
   "nbconvert_exporter": "python",
   "pygments_lexer": "ipython3",
   "version": "3.10.11"
  }
 },
 "nbformat": 4,
 "nbformat_minor": 2
}
