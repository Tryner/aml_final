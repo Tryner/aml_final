{
 "cells": [
  {
   "cell_type": "code",
   "execution_count": null,
   "metadata": {},
   "outputs": [],
   "source": [
    "#Colab\n",
    "'''\n",
    "from google.colab import drive\n",
    "drive.mount('/content/drive', force_remount=True)\n",
    "%cd /content/drive/MyDrive/aml_final\n",
    "#with open(\"github_token.txt\", \"r\") as f:\n",
    "#  token = f.read()\n",
    "#! git clone https://{token}@github.com/Tryner/aml_final.git #clone repo\n",
    "%cd aml_final/\n",
    "! git pull\n",
    "! pip install setfit\n",
    "'''"
   ]
  },
  {
   "cell_type": "code",
   "execution_count": 1,
   "metadata": {},
   "outputs": [
    {
     "name": "stderr",
     "output_type": "stream",
     "text": [
      "c:\\Users\\UTENTE\\Documents\\aml_final\\.venv\\lib\\site-packages\\tqdm\\auto.py:21: TqdmWarning: IProgress not found. Please update jupyter and ipywidgets. See https://ipywidgets.readthedocs.io/en/stable/user_install.html\n",
      "  from .autonotebook import tqdm as notebook_tqdm\n"
     ]
    }
   ],
   "source": [
    "%reload_ext autoreload\n",
    "%autoreload 2\n",
    "import torch\n",
    "from datasets import load_dataset, Dataset\n",
    "from setfit import SetFitModel, Trainer, TrainingArguments\n",
    "\n",
    "from train.active_learning import ActiveTrainer\n",
    "from train.active_learning_config import ActiveLearningConfig\n",
    "from data.dataset_config import DatasetConfig\n",
    "from data.load_datasets import select_dataset, load\n",
    "from train.reporter import Reporter\n",
    "from train.metrics import camprehesive_metrics\n",
    "import time"
   ]
  },
  {
   "cell_type": "code",
   "execution_count": 2,
   "metadata": {},
   "outputs": [
    {
     "name": "stdout",
     "output_type": "stream",
     "text": [
      "Select dataset:\n",
      "1. sst2\n",
      "2. french\n",
      "3. spanish\n",
      "4. indonesian\n",
      "4\n",
      "DatasetDict({\n",
      "    train: Dataset({\n",
      "        features: ['sentence', 'label', '__index_level_0__'],\n",
      "        num_rows: 1760\n",
      "    })\n",
      "    validation: Dataset({\n",
      "        features: ['sentence', 'label', '__index_level_0__'],\n",
      "        num_rows: 441\n",
      "    })\n",
      "})\n"
     ]
    }
   ],
   "source": [
    "dataset_choice = select_dataset()\n",
    "dataset = load(dataset_choice)\n",
    "active_learning_config = ActiveLearningConfig(samples_per_cycle=2, unlabeled_samples=20, balancing_factor=0.5) # speed up training, not advisable\n",
    "dataset_config = DatasetConfig()\n",
    "train_args = TrainingArguments(num_epochs=1) #speed up training, not advisable"
   ]
  },
  {
   "cell_type": "code",
   "execution_count": 3,
   "metadata": {},
   "outputs": [
    {
     "name": "stdout",
     "output_type": "stream",
     "text": [
      "cpu\n"
     ]
    }
   ],
   "source": [
    "device = torch.device('cuda' if torch.cuda.is_available() else 'cpu')\n",
    "final_reporter = Reporter(\"example_final_report.csv\", label_column=dataset_config.label_column)\n",
    "cycle_reporter = Reporter(\"example_cycle_report.csv\", report_train_args=False, label_column=dataset_config.label_column)\n",
    "\n",
    "def model_init():\n",
    "    return SetFitModel.from_pretrained(active_learning_config.model_name, use_differentiable_head=True, head_params={\"out_features\": dataset_config.num_classes}).to(device)\n",
    "def after_train_callback(trainer: Trainer, dataset: Dataset):\n",
    "    cycle_reporter.report(trainer=trainer, dataset=dataset)\n"
   ]
  },
  {
   "cell_type": "code",
   "execution_count": null,
   "metadata": {},
   "outputs": [],
   "source": [
    "start_time=time.time()\n",
    "for run_id in range(2):\n",
    "    trainer = ActiveTrainer(\n",
    "    model_init=model_init, \n",
    "    full_train_dataset=dataset[\"train\"],\n",
    "    eval_dataset=dataset[\"validation\"],\n",
    "    train_args=train_args,\n",
    "    active_learning_config=active_learning_config, \n",
    "    dataset_config=dataset_config,\n",
    "    after_train_callback=after_train_callback,\n",
    "    metric=camprehesive_metrics\n",
    "    )\n",
    "    t = trainer.train()\n",
    "    final_reporter.report(\n",
    "        trainer=t, \n",
    "        dataset=trainer.train_subset, \n",
    "        active_learning_config=active_learning_config, \n",
    "        dataset_name=\"sst2\", run_id=run_id #kwars, so you can put anything here\n",
    "        )\n",
    "execution_time=time.time() - start_time\n",
    "\n"
   ]
  }
 ],
 "metadata": {
  "kernelspec": {
   "display_name": ".venv",
   "language": "python",
   "name": "python3"
  },
  "language_info": {
   "codemirror_mode": {
    "name": "ipython",
    "version": 3
   },
   "file_extension": ".py",
   "mimetype": "text/x-python",
   "name": "python",
   "nbconvert_exporter": "python",
   "pygments_lexer": "ipython3",
   "version": "3.10.11"
  }
 },
 "nbformat": 4,
 "nbformat_minor": 2
}
