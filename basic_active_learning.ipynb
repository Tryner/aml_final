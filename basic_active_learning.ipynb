{
 "cells": [
  {
   "cell_type": "code",
   "execution_count": 1,
   "metadata": {},
   "outputs": [
    {
     "name": "stderr",
     "output_type": "stream",
     "text": [
      "c:\\Users\\Colin\\Documents\\aml\\aml_final\\.venv\\Lib\\site-packages\\tqdm\\auto.py:21: TqdmWarning: IProgress not found. Please update jupyter and ipywidgets. See https://ipywidgets.readthedocs.io/en/stable/user_install.html\n",
      "  from .autonotebook import tqdm as notebook_tqdm\n"
     ]
    }
   ],
   "source": [
    "from datasets import load_dataset\n",
    "from setfit import SetFitModel\n",
    "from train.active_learning import active_train\n",
    "from train.train_config import TrainConfig\n",
    "from train.active_learning_config import ActiveLearningConfig\n",
    "from data.dataset_config import DatasetConfig"
   ]
  },
  {
   "cell_type": "code",
   "execution_count": 2,
   "metadata": {},
   "outputs": [],
   "source": [
    "dataset = load_dataset(\"sst2\")\n",
    "train_config = TrainConfig(num_iterations=10)\n",
    "active_learning_config = ActiveLearningConfig()\n",
    "dataset_config = DatasetConfig()"
   ]
  },
  {
   "cell_type": "code",
   "execution_count": 3,
   "metadata": {},
   "outputs": [],
   "source": [
    "def model_init():\n",
    "    return SetFitModel.from_pretrained(\"thenlper/gte-small\", use_differentiable_head=True, head_params={\"out_features\": dataset_config.num_classes},\n",
    ")"
   ]
  },
  {
   "cell_type": "code",
   "execution_count": 4,
   "metadata": {},
   "outputs": [
    {
     "name": "stderr",
     "output_type": "stream",
     "text": [
      "Casting the dataset: 100%|██████████| 67349/67349 [00:00<00:00, 2302293.31 examples/s]\n",
      "model_head.pkl not found on HuggingFace Hub, initialising classification head with random weights. You should TRAIN this model on a downstream task to use it for predictions and inference.\n",
      "Applying column mapping to training dataset\n",
      "Generating Training Pairs: 100%|██████████| 10/10 [00:00<00:00, 565.19it/s]\n",
      "***** Running training *****\n",
      "  Num examples = 160\n",
      "  Num epochs = 1\n",
      "  Total optimization steps = 20\n",
      "  Total train batch size = 8\n",
      "Iteration: 100%|██████████| 20/20 [00:22<00:00,  1.14s/it]\n",
      "Epoch: 100%|██████████| 1/1 [00:22<00:00, 22.76s/it]\n",
      "Applying column mapping to training dataset\n",
      "The `max_length` is `None`. Using the maximum acceptable length according to the current model body: 512.\n",
      "Epoch: 100%|██████████| 10/10 [02:11<00:00, 13.10s/it]\n",
      "Applying column mapping to evaluation dataset\n",
      "***** Running evaluation *****\n"
     ]
    },
    {
     "name": "stdout",
     "output_type": "stream",
     "text": [
      "Accuracy: {'accuracy': 0.7408256880733946}\n"
     ]
    },
    {
     "name": "stderr",
     "output_type": "stream",
     "text": [
      "model_head.pkl not found on HuggingFace Hub, initialising classification head with random weights. You should TRAIN this model on a downstream task to use it for predictions and inference.\n",
      "Applying column mapping to training dataset\n",
      "Generating Training Pairs: 100%|██████████| 10/10 [00:00<00:00, 1915.12it/s]\n",
      "***** Running training *****\n",
      "  Num examples = 320\n",
      "  Num epochs = 1\n",
      "  Total optimization steps = 40\n",
      "  Total train batch size = 8\n",
      "Iteration: 100%|██████████| 40/40 [00:41<00:00,  1.04s/it]\n",
      "Epoch: 100%|██████████| 1/1 [00:41<00:00, 41.73s/it]\n",
      "Applying column mapping to training dataset\n",
      "The `max_length` is `None`. Using the maximum acceptable length according to the current model body: 512.\n",
      "Epoch: 100%|██████████| 10/10 [04:18<00:00, 25.85s/it]\n",
      "Applying column mapping to evaluation dataset\n",
      "***** Running evaluation *****\n"
     ]
    },
    {
     "name": "stdout",
     "output_type": "stream",
     "text": [
      "Accuracy: {'accuracy': 0.7706422018348624}\n"
     ]
    },
    {
     "name": "stderr",
     "output_type": "stream",
     "text": [
      "model_head.pkl not found on HuggingFace Hub, initialising classification head with random weights. You should TRAIN this model on a downstream task to use it for predictions and inference.\n",
      "Applying column mapping to training dataset\n",
      "Generating Training Pairs: 100%|██████████| 10/10 [00:00<00:00, 2499.14it/s]\n",
      "***** Running training *****\n",
      "  Num examples = 480\n",
      "  Num epochs = 1\n",
      "  Total optimization steps = 60\n",
      "  Total train batch size = 8\n",
      "Iteration: 100%|██████████| 60/60 [01:00<00:00,  1.01s/it]\n",
      "Epoch: 100%|██████████| 1/1 [01:00<00:00, 60.62s/it]\n",
      "Applying column mapping to training dataset\n",
      "The `max_length` is `None`. Using the maximum acceptable length according to the current model body: 512.\n",
      "Epoch: 100%|██████████| 10/10 [06:28<00:00, 38.86s/it]\n",
      "Applying column mapping to evaluation dataset\n",
      "***** Running evaluation *****\n"
     ]
    },
    {
     "name": "stdout",
     "output_type": "stream",
     "text": [
      "Accuracy: {'accuracy': 0.8543577981651376}\n"
     ]
    },
    {
     "name": "stderr",
     "output_type": "stream",
     "text": [
      "model_head.pkl not found on HuggingFace Hub, initialising classification head with random weights. You should TRAIN this model on a downstream task to use it for predictions and inference.\n",
      "Applying column mapping to training dataset\n",
      "Generating Training Pairs: 100%|██████████| 10/10 [00:00<?, ?it/s]\n",
      "***** Running training *****\n",
      "  Num examples = 640\n",
      "  Num epochs = 1\n",
      "  Total optimization steps = 80\n",
      "  Total train batch size = 8\n",
      "Iteration: 100%|██████████| 80/80 [01:25<00:00,  1.07s/it]\n",
      "Epoch: 100%|██████████| 1/1 [01:25<00:00, 85.68s/it]\n",
      "Applying column mapping to training dataset\n",
      "The `max_length` is `None`. Using the maximum acceptable length according to the current model body: 512.\n",
      "Epoch: 100%|██████████| 10/10 [08:06<00:00, 48.61s/it]\n",
      "Applying column mapping to evaluation dataset\n",
      "***** Running evaluation *****\n"
     ]
    },
    {
     "name": "stdout",
     "output_type": "stream",
     "text": [
      "Accuracy: {'accuracy': 0.8463302752293578}\n"
     ]
    }
   ],
   "source": [
    "trainer = active_train(model_init=model_init, dataset=dataset, train_config=train_config, active_learning_config=active_learning_config, dataset_config=dataset_config)"
   ]
  }
 ],
 "metadata": {
  "kernelspec": {
   "display_name": ".venv",
   "language": "python",
   "name": "python3"
  },
  "language_info": {
   "codemirror_mode": {
    "name": "ipython",
    "version": 3
   },
   "file_extension": ".py",
   "mimetype": "text/x-python",
   "name": "python",
   "nbconvert_exporter": "python",
   "pygments_lexer": "ipython3",
   "version": "3.11.4"
  }
 },
 "nbformat": 4,
 "nbformat_minor": 2
}
