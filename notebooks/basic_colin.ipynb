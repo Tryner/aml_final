{
 "cells": [
  {
   "cell_type": "code",
   "execution_count": 1,
   "metadata": {},
   "outputs": [
    {
     "name": "stderr",
     "output_type": "stream",
     "text": [
      "c:\\Users\\Colin\\Documents\\aml\\aml_final\\.venv\\Lib\\site-packages\\tqdm\\auto.py:21: TqdmWarning: IProgress not found. Please update jupyter and ipywidgets. See https://ipywidgets.readthedocs.io/en/stable/user_install.html\n",
      "  from .autonotebook import tqdm as notebook_tqdm\n",
      "config.json: 100%|██████████| 583/583 [00:00<?, ?B/s] \n",
      "c:\\Users\\Colin\\Documents\\aml\\aml_final\\.venv\\Lib\\site-packages\\huggingface_hub\\file_download.py:147: UserWarning: `huggingface_hub` cache-system uses symlinks by default to efficiently store duplicated files but your machine does not support them in C:\\Users\\Colin\\.cache\\huggingface\\hub. Caching files will still work but in a degraded version that might require more space on your disk. This warning can be disabled by setting the `HF_HUB_DISABLE_SYMLINKS_WARNING` environment variable. For more details, see https://huggingface.co/docs/huggingface_hub/how-to-cache#limitations.\n",
      "To support symlinks on Windows, you either need to activate Developer Mode or to run Python as an administrator. In order to see activate developer mode, see this article: https://docs.microsoft.com/en-us/windows/apps/get-started/enable-your-device-for-development\n",
      "  warnings.warn(message)\n",
      ".gitattributes: 100%|██████████| 1.52k/1.52k [00:00<?, ?B/s]\n",
      "1_Pooling/config.json: 100%|██████████| 190/190 [00:00<?, ?B/s] \n",
      "README.md: 100%|██████████| 68.1k/68.1k [00:02<00:00, 28.6kB/s]\n",
      "config.json: 100%|██████████| 583/583 [00:00<?, ?B/s] \n",
      "model.safetensors: 100%|██████████| 66.7M/66.7M [00:11<00:00, 5.62MB/s]\n",
      "pytorch_model.bin: 100%|██████████| 66.8M/66.8M [00:12<00:00, 5.56MB/s]\n",
      "sentence_bert_config.json: 100%|██████████| 57.0/57.0 [00:00<?, ?B/s]\n",
      "special_tokens_map.json: 100%|██████████| 125/125 [00:00<?, ?B/s] \n",
      "tokenizer.json: 100%|██████████| 712k/712k [00:00<00:00, 1.78MB/s]\n",
      "tokenizer_config.json: 100%|██████████| 394/394 [00:00<?, ?B/s] \n",
      "vocab.txt: 100%|██████████| 232k/232k [00:00<00:00, 2.31MB/s]\n",
      "modules.json: 100%|██████████| 385/385 [00:00<?, ?B/s] \n",
      "model_head.pkl not found on HuggingFace Hub, initialising classification head with random weights. You should TRAIN this model on a downstream task to use it for predictions and inference.\n"
     ]
    }
   ],
   "source": [
    "from datasets import load_dataset\n",
    "from sentence_transformers.losses import CosineSimilarityLoss\n",
    "\n",
    "from setfit import SetFitModel, SetFitTrainer, sample_dataset\n",
    "\n",
    "\n",
    "# Load a dataset from the Hugging Face Hub\n",
    "dataset = load_dataset(\"sst2\")\n",
    "\n",
    "# Simulate the few-shot regime by sampling 8 examples per class\n",
    "train_dataset = sample_dataset(dataset[\"train\"], label_column=\"label\", num_samples=5)\n",
    "eval_dataset = dataset[\"validation\"]\n",
    "\n",
    "num_classes=2\n",
    "# Load a SetFit model from Hub\n",
    "model = SetFitModel.from_pretrained(\n",
    "    \"thenlper/gte-small\",\n",
    "    use_differentiable_head=True,\n",
    "    head_params={\"out_features\": num_classes},\n",
    ")\n"
   ]
  },
  {
   "cell_type": "code",
   "execution_count": 2,
   "metadata": {},
   "outputs": [
    {
     "name": "stderr",
     "output_type": "stream",
     "text": [
      "Applying column mapping to training dataset\n",
      "Generating Training Pairs: 100%|██████████| 5/5 [00:00<?, ?it/s]\n",
      "***** Running training *****\n",
      "  Num examples = 100\n",
      "  Num epochs = 1\n",
      "  Total optimization steps = 13\n",
      "  Total train batch size = 8\n",
      "Iteration: 100%|██████████| 13/13 [00:18<00:00,  1.40s/it]\n",
      "Epoch: 100%|██████████| 1/1 [00:18<00:00, 18.20s/it]\n"
     ]
    }
   ],
   "source": [
    "# Create trainer\n",
    "trainer = SetFitTrainer(\n",
    "    model=model,\n",
    "    train_dataset=train_dataset,\n",
    "    eval_dataset=eval_dataset,\n",
    "    loss_class=CosineSimilarityLoss,\n",
    "    metric=\"accuracy\",\n",
    "    batch_size=8,\n",
    "    num_iterations=5, # The number of text pairs to generate for contrastive learning\n",
    "    num_epochs=1, # The number of epochs to use for contrastive learning\n",
    "    column_mapping={\"sentence\": \"text\", \"label\": \"label\"} # Map dataset columns to text/label expected by trainer\n",
    ")\n",
    "\n",
    "# Train and evaluate\n",
    "trainer.freeze() # Freeze the head\n",
    "trainer.train() # Train only the body"
   ]
  },
  {
   "cell_type": "code",
   "execution_count": 3,
   "metadata": {},
   "outputs": [
    {
     "name": "stderr",
     "output_type": "stream",
     "text": [
      "Applying column mapping to training dataset\n",
      "The `max_length` is `None`. Using the maximum acceptable length according to the current model body: 512.\n",
      "Epoch: 100%|██████████| 10/10 [03:04<00:00, 18.50s/it]\n",
      "Applying column mapping to evaluation dataset\n",
      "***** Running evaluation *****\n"
     ]
    },
    {
     "data": {
      "text/plain": [
       "{'accuracy': 0.8096330275229358}"
      ]
     },
     "execution_count": 3,
     "metadata": {},
     "output_type": "execute_result"
    }
   ],
   "source": [
    "# Unfreeze the head and freeze the body -> head-only training\n",
    "trainer.unfreeze(keep_body_frozen=True)\n",
    "# or\n",
    "# Unfreeze the head and unfreeze the body -> end-to-end training\n",
    "trainer.unfreeze(keep_body_frozen=False)\n",
    "\n",
    "trainer.train(\n",
    "    num_epochs=10, # The number of epochs to train the head or the whole model (body and head)\n",
    "    batch_size=8,\n",
    "    body_learning_rate=1e-5, # The body's learning rate\n",
    "    learning_rate=1e-2, # The head's learning rate\n",
    "    l2_weight=0.0, # Weight decay on **both** the body and head. If `None`, will use 0.01.\n",
    ")\n",
    "metrics = trainer.evaluate()\n",
    "metrics"
   ]
  },
  {
   "cell_type": "code",
   "execution_count": 4,
   "metadata": {},
   "outputs": [
    {
     "data": {
      "text/plain": [
       "tensor([0, 0])"
      ]
     },
     "execution_count": 4,
     "metadata": {},
     "output_type": "execute_result"
    }
   ],
   "source": [
    "# Run inference\n",
    "preds = model([\"i loved the spiderman movie!\", \"pineapple on pizza is the worst 🤮\"])\n",
    "preds"
   ]
  }
 ],
 "metadata": {
  "kernelspec": {
   "display_name": ".venv",
   "language": "python",
   "name": "python3"
  },
  "language_info": {
   "codemirror_mode": {
    "name": "ipython",
    "version": 3
   },
   "file_extension": ".py",
   "mimetype": "text/x-python",
   "name": "python",
   "nbconvert_exporter": "python",
   "pygments_lexer": "ipython3",
   "version": "3.11.4"
  }
 },
 "nbformat": 4,
 "nbformat_minor": 2
}
