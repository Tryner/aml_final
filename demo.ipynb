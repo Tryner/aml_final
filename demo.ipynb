{
 "cells": [
  {
   "cell_type": "markdown",
   "metadata": {},
   "source": [
    "Notebook simulating our active learning loop"
   ]
  },
  {
   "cell_type": "code",
   "execution_count": null,
   "metadata": {},
   "outputs": [],
   "source": [
    "#colab\n",
    "'''\n",
    "from google.colab import drive\n",
    "drive.mount('/content/drive', force_remount=True)\n",
    "%cd /content/drive/MyDrive/aml_final/aml_final/\n",
    "! git pull\n",
    "! pip install setfit\n",
    "'''\n",
    "from datasets import load_dataset, concatenate_datasets\n",
    "from setfit import TrainingArguments\n",
    "\n",
    "from data.dataset_config import DatasetConfig\n",
    "from train.active_learning import ActiveTrainer, create_random_subset, label_sentences\n",
    "from train.active_learning_config import ActiveLearningConfig\n",
    "from train.metrics import comprehensive_metrics\n"
   ]
  },
  {
   "cell_type": "code",
   "execution_count": null,
   "metadata": {},
   "outputs": [],
   "source": [
    "dataset = load_dataset(\"dair-ai/emotion\")\n",
    "train_dataset = dataset[\"train\"]\n",
    "dataset_config = DatasetConfig(text_column=\"text\", num_classes=6)\n",
    "active_config = ActiveLearningConfig(active_learning_cycles=1, samples_per_cycle=10, model_name=\"sentence-transformers/all-mpnet-base-v2\")\n",
    "intermediate_args = TrainingArguments(num_iterations=10, num_epochs=(1,8))\n",
    "final_args = TrainingArguments(num_iterations=20, num_epochs=(1,16))\n",
    "\n",
    "inittial_subset = create_random_subset(train_dataset, dataset_config, num_samples=50)\n",
    "after_train_callback = lambda trainer, **kwars: print(trainer.evaluate())\n",
    "active_trainer = ActiveTrainer(\n",
    "    full_train_dataset=train_dataset, \n",
    "    train_args=intermediate_args,\n",
    "    final_model_train_args=final_args,\n",
    "    active_learning_config=active_config,\n",
    "    dataset_config=dataset_config,\n",
    "    eval_dataset=dataset[\"validation\"], \n",
    "    metric=comprehensive_metrics, \n",
    "    initial_train_subset=inittial_subset\n",
    "    )"
   ]
  },
  {
   "cell_type": "code",
   "execution_count": null,
   "metadata": {},
   "outputs": [],
   "source": [
    "intermediate_model = active_trainer.run_training().model\n",
    "selected_sentences = active_trainer.select_sentences(intermediate_model)\n",
    "print(selected_sentences)"
   ]
  },
  {
   "cell_type": "code",
   "execution_count": null,
   "metadata": {},
   "outputs": [],
   "source": [
    "labeled_sentences = label_sentences(selected_sentences, labeled_dataset=train_dataset, text_column=\"text\")\n",
    "print(labeled_sentences[\"text\"])\n",
    "print(label_sentences[\"label\"])"
   ]
  },
  {
   "cell_type": "code",
   "execution_count": null,
   "metadata": {},
   "outputs": [],
   "source": [
    "new_dataset = concatenate_datasets([active_trainer.train_subset, labeled_sentences])\n",
    "active_trainer.train_subset = new_dataset\n",
    "\n",
    "final_model = active_trainer.run_training(final_model=True).model"
   ]
  },
  {
   "cell_type": "code",
   "execution_count": null,
   "metadata": {},
   "outputs": [],
   "source": [
    "final_model.predict([\"Great presentation!\", \"Very suprising results!\"])"
   ]
  }
 ],
 "metadata": {
  "kernelspec": {
   "display_name": ".venv",
   "language": "python",
   "name": "python3"
  },
  "language_info": {
   "codemirror_mode": {
    "name": "ipython",
    "version": 3
   },
   "file_extension": ".py",
   "mimetype": "text/x-python",
   "name": "python",
   "nbconvert_exporter": "python",
   "pygments_lexer": "ipython3",
   "version": "3.11.4"
  }
 },
 "nbformat": 4,
 "nbformat_minor": 2
}
